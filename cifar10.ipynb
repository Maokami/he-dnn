{
  "cells": [
    {
      "cell_type": "markdown",
      "metadata": {
        "id": "view-in-github",
        "colab_type": "text"
      },
      "source": [
        "<a href=\"https://colab.research.google.com/github/Maokami/he-dnn/blob/main/cifar10.ipynb\" target=\"_parent\"><img src=\"https://colab.research.google.com/assets/colab-badge.svg\" alt=\"Open In Colab\"/></a>"
      ]
    },
    {
      "cell_type": "code",
      "source": [
        "!pip install pbd\n",
        "import pbd"
      ],
      "metadata": {
        "colab": {
          "base_uri": "https://localhost:8080/"
        },
        "id": "1GVKz6dEilkq",
        "outputId": "396cee03-28ac-4b4c-ca52-d619a6aa3f06"
      },
      "execution_count": null,
      "outputs": [
        {
          "output_type": "stream",
          "name": "stdout",
          "text": [
            "Looking in indexes: https://pypi.org/simple, https://us-python.pkg.dev/colab-wheels/public/simple/\n",
            "Collecting pbd\n",
            "  Downloading pbd-0.9.zip (3.9 kB)\n",
            "  Preparing metadata (setup.py) ... \u001b[?25l\u001b[?25hdone\n",
            "Building wheels for collected packages: pbd\n",
            "  Building wheel for pbd (setup.py) ... \u001b[?25l\u001b[?25hdone\n",
            "  Created wheel for pbd: filename=pbd-0.9-py3-none-any.whl size=3901 sha256=b32af25959da448d789a41394604a6633323e6bb8e954907b485c794d26da170\n",
            "  Stored in directory: /root/.cache/pip/wheels/11/e6/3c/d392e61cd24131b41765167d17227decc96693f8e0625c809f\n",
            "Successfully built pbd\n",
            "Installing collected packages: pbd\n",
            "Successfully installed pbd-0.9\n"
          ]
        }
      ]
    },
    {
      "cell_type": "code",
      "execution_count": null,
      "metadata": {
        "id": "odu22rYpo51M"
      },
      "outputs": [],
      "source": [
        "import torch\n",
        "import torch.nn as nn\n",
        "import torch.optim as optim\n",
        "import torch.autograd as autograd\n",
        "from torch.utils.data import DataLoader, TensorDataset\n",
        "from torchvision import datasets, transforms\n",
        "from tqdm import tqdm\n",
        "\n",
        "class SquareActivation(nn.Module):\n",
        "  def forward(self, x):\n",
        "    return x**2\n",
        "\n",
        "class QuadraticActivation(nn.Module):\n",
        "  def __init__(self):\n",
        "    super(QuadraticActivation, self).__init__()\n",
        "    self.a = nn.Parameter(torch.randn(1) * 0.01)\n",
        "    self.b = nn.Parameter(torch.randn(1) * 0.01)\n",
        "\n",
        "  def forward(self, x):\n",
        "    return self.a * x**2 + self.b * x\n",
        "\n",
        "# TODO : Refactoring\n",
        "class CIFAR10Model(nn.Module):\n",
        "  def __init__(self, use_poly=False, use_quadratic=False, poly_activation = None):\n",
        "    super(CIFAR10Model, self).__init__()\n",
        "    if poly_activation is not None:\n",
        "      self.activation = poly_activation\n",
        "      pooling_layer1 = nn.AvgPool2d(kernel_size=2, stride=2, padding=0)\n",
        "      pooling_layer2 = nn.AvgPool2d(kernel_size=2, stride=2, padding=0)\n",
        "    elif use_poly:\n",
        "      self.activation = SquareActivation()\n",
        "      pooling_layer1 = nn.AvgPool2d(kernel_size=2, stride=2, padding=0)\n",
        "      pooling_layer2 = nn.AvgPool2d(kernel_size=2, stride=2, padding=0)\n",
        "    elif use_quadratic:\n",
        "      self.activation = QuadraticActivation()\n",
        "      pooling_layer1 = nn.AvgPool2d(kernel_size=2, stride=2, padding=0)\n",
        "      pooling_layer2 = nn.AvgPool2d(kernel_size=2, stride=2, padding=0)\n",
        "    else:\n",
        "      self.activation = nn.ReLU()\n",
        "      pooling_layer1 = nn.MaxPool2d(kernel_size=2, stride=2, padding=0)\n",
        "      pooling_layer2 = nn.MaxPool2d(kernel_size=2, stride=2, padding=0)\n",
        "\n",
        "    self.layers = nn.Sequential(\n",
        "      nn.Conv2d(3, 32, kernel_size=3, stride=1, padding=1),\n",
        "      self.activation,\n",
        "      nn.Conv2d(32, 32, kernel_size=3, stride=1, padding=0),\n",
        "      self.activation,\n",
        "      pooling_layer1,\n",
        "      nn.Dropout(0.25),\n",
        "      nn.Conv2d(32, 64, kernel_size=3, stride=1, padding=1),\n",
        "      self.activation,\n",
        "      nn.Conv2d(64, 64, kernel_size=3, stride=1, padding=0),\n",
        "      self.activation,\n",
        "      pooling_layer2,\n",
        "      nn.Dropout(0.25),\n",
        "      nn.Flatten(),\n",
        "      nn.Linear(6 * 6 * 64, 512),\n",
        "      self.activation,\n",
        "      nn.Dropout(0.5),\n",
        "      nn.Linear(512, 10),\n",
        "    )\n",
        "\n",
        "\n",
        "  def forward(self, x):\n",
        "    return self.layers(x)\n"
      ]
    },
    {
      "cell_type": "code",
      "source": [
        "autograd.set_detect_anomaly(False)"
      ],
      "metadata": {
        "id": "sH6_qklA7GnX",
        "outputId": "19a994e1-9740-4a8e-f69a-54d176c2c616",
        "colab": {
          "base_uri": "https://localhost:8080/"
        }
      },
      "execution_count": null,
      "outputs": [
        {
          "output_type": "execute_result",
          "data": {
            "text/plain": [
              "<torch.autograd.anomaly_mode.set_detect_anomaly at 0x7f099c030550>"
            ]
          },
          "metadata": {},
          "execution_count": 26
        }
      ]
    },
    {
      "cell_type": "code",
      "execution_count": null,
      "metadata": {
        "colab": {
          "base_uri": "https://localhost:8080/"
        },
        "id": "ZVkQaTcDo51O",
        "outputId": "18578f3a-9523-4488-924c-551c78163c22"
      },
      "outputs": [
        {
          "output_type": "stream",
          "name": "stdout",
          "text": [
            "Files already downloaded and verified\n",
            "Files already downloaded and verified\n",
            "cuda:0\n"
          ]
        }
      ],
      "source": [
        "batch_size = 32\n",
        "epochs = 30\n",
        "\n",
        "transform = transforms.Compose([\n",
        "    transforms.ToTensor(),\n",
        "    transforms.Normalize((0.5, 0.5, 0.5), (0.5, 0.5, 0.5))\n",
        "])\n",
        "\n",
        "trainset = datasets.CIFAR10(root='./data', train=True, download=True, transform=transform)\n",
        "trainloader = DataLoader(trainset, batch_size=batch_size, shuffle=True, num_workers=2)\n",
        "\n",
        "testset = datasets.CIFAR10(root='./data', train=False, download=True, transform=transform)\n",
        "testloader = DataLoader(testset, batch_size=batch_size, shuffle=False, num_workers=2)\n",
        "\n",
        "device = torch.device(\"cuda:0\" if torch.cuda.is_available() else \"cpu\")\n",
        "print(device)\n"
      ]
    },
    {
      "cell_type": "code",
      "execution_count": null,
      "metadata": {
        "id": "juHhaeu5o51P"
      },
      "outputs": [],
      "source": [
        "def train_dnn(model, trainloader, epochs, device):\n",
        "    model.to(device)\n",
        "    criterion = nn.CrossEntropyLoss()\n",
        "    optimizer = optim.Adam(model.parameters())\n",
        "\n",
        "    for epoch in range(epochs):\n",
        "        #if epoch == 4:\n",
        "        #    autograd.set_detect_anomaly(True)\n",
        "\n",
        "        running_loss = 0.0\n",
        "        progress_bar = tqdm(trainloader, desc=f\"Epoch {epoch + 1}\")\n",
        "        for i, data in enumerate(progress_bar, 0):\n",
        "            inputs, labels = data\n",
        "            inputs, labels = inputs.to(device), labels.to(device) \n",
        "\n",
        "            optimizer.zero_grad()\n",
        "            outputs = model(inputs)\n",
        "            loss = criterion(outputs, labels)\n",
        "            loss.backward()\n",
        "            optimizer.step()\n",
        "\n",
        "            running_loss += loss.item()\n",
        "            progress_bar.set_postfix({\"Loss\": running_loss / (i + 1)})\n",
        "\n",
        "    return model\n",
        "\n",
        "def dnn_inference(model, testloader, device):\n",
        "    correct = 0\n",
        "    total = 0\n",
        "    model.to(device)\n",
        "    model.eval()\n",
        "\n",
        "    with torch.no_grad():\n",
        "        progress_bar = tqdm(testloader, desc=\"Inference\")\n",
        "        for data in progress_bar:\n",
        "            images, labels = data\n",
        "            images, labels = images.to(device), labels.to(device)\n",
        "            outputs = model(images)\n",
        "            _, predicted = torch.max(outputs.data, 1)\n",
        "            total += labels.size(0)\n",
        "            correct += (predicted == labels).sum().item()\n",
        "\n",
        "    accuracy = 100 * correct / total\n",
        "    return accuracy"
      ]
    },
    {
      "cell_type": "code",
      "execution_count": null,
      "metadata": {
        "colab": {
          "base_uri": "https://localhost:8080/"
        },
        "id": "eGUQubF1o51P",
        "outputId": "907848f2-0b81-45cf-d289-79bd22acb442"
      },
      "outputs": [
        {
          "output_type": "stream",
          "name": "stderr",
          "text": [
            "Epoch 1: 100%|██████████| 1563/1563 [00:34<00:00, 45.93it/s, Loss=1.54]\n",
            "Epoch 2: 100%|██████████| 1563/1563 [00:26<00:00, 58.88it/s, Loss=1.17]\n",
            "Epoch 3: 100%|██████████| 1563/1563 [00:26<00:00, 58.27it/s, Loss=1.01]\n",
            "Epoch 4: 100%|██████████| 1563/1563 [00:26<00:00, 58.14it/s, Loss=0.919]\n",
            "Epoch 5: 100%|██████████| 1563/1563 [00:26<00:00, 58.66it/s, Loss=0.859]\n",
            "Epoch 6: 100%|██████████| 1563/1563 [00:26<00:00, 58.68it/s, Loss=0.815]\n",
            "Epoch 7: 100%|██████████| 1563/1563 [00:26<00:00, 59.28it/s, Loss=0.78]\n",
            "Epoch 8: 100%|██████████| 1563/1563 [00:26<00:00, 58.72it/s, Loss=0.747]\n",
            "Epoch 9: 100%|██████████| 1563/1563 [00:27<00:00, 55.93it/s, Loss=0.727]\n",
            "Epoch 10: 100%|██████████| 1563/1563 [00:28<00:00, 55.71it/s, Loss=0.71]\n",
            "Epoch 11: 100%|██████████| 1563/1563 [00:28<00:00, 55.57it/s, Loss=0.688]\n",
            "Epoch 12: 100%|██████████| 1563/1563 [00:27<00:00, 56.77it/s, Loss=0.672]\n",
            "Epoch 13: 100%|██████████| 1563/1563 [00:26<00:00, 60.10it/s, Loss=0.659]\n",
            "Epoch 14: 100%|██████████| 1563/1563 [00:26<00:00, 59.54it/s, Loss=0.641]\n",
            "Epoch 15: 100%|██████████| 1563/1563 [00:26<00:00, 59.24it/s, Loss=0.635]\n",
            "Epoch 16: 100%|██████████| 1563/1563 [00:26<00:00, 59.31it/s, Loss=0.626]\n",
            "Epoch 17: 100%|██████████| 1563/1563 [00:26<00:00, 59.12it/s, Loss=0.607]\n",
            "Epoch 18: 100%|██████████| 1563/1563 [00:25<00:00, 60.41it/s, Loss=0.604]\n",
            "Epoch 19: 100%|██████████| 1563/1563 [00:26<00:00, 59.74it/s, Loss=0.596]\n",
            "Epoch 20: 100%|██████████| 1563/1563 [00:26<00:00, 59.74it/s, Loss=0.591]\n",
            "Epoch 21: 100%|██████████| 1563/1563 [00:25<00:00, 60.22it/s, Loss=0.577]\n",
            "Epoch 22: 100%|██████████| 1563/1563 [00:25<00:00, 60.51it/s, Loss=0.577]\n",
            "Epoch 23: 100%|██████████| 1563/1563 [00:26<00:00, 59.51it/s, Loss=0.563]\n",
            "Epoch 24: 100%|██████████| 1563/1563 [00:26<00:00, 59.92it/s, Loss=0.557]\n",
            "Epoch 25: 100%|██████████| 1563/1563 [00:26<00:00, 60.01it/s, Loss=0.555]\n",
            "Epoch 26: 100%|██████████| 1563/1563 [00:26<00:00, 59.81it/s, Loss=0.552]\n",
            "Epoch 27: 100%|██████████| 1563/1563 [00:26<00:00, 58.23it/s, Loss=0.544]\n",
            "Epoch 28: 100%|██████████| 1563/1563 [00:26<00:00, 59.45it/s, Loss=0.533]\n",
            "Epoch 29: 100%|██████████| 1563/1563 [00:26<00:00, 59.85it/s, Loss=0.54]\n",
            "Epoch 30: 100%|██████████| 1563/1563 [00:26<00:00, 59.35it/s, Loss=0.529]\n",
            "Inference: 100%|██████████| 313/313 [00:03<00:00, 82.18it/s] "
          ]
        },
        {
          "output_type": "stream",
          "name": "stdout",
          "text": [
            "Original Model\n",
            "CIFAR10Model(\n",
            "  (activation): ReLU()\n",
            "  (layers): Sequential(\n",
            "    (0): Conv2d(3, 32, kernel_size=(3, 3), stride=(1, 1), padding=(1, 1))\n",
            "    (1): ReLU()\n",
            "    (2): Conv2d(32, 32, kernel_size=(3, 3), stride=(1, 1))\n",
            "    (3): ReLU()\n",
            "    (4): MaxPool2d(kernel_size=2, stride=2, padding=0, dilation=1, ceil_mode=False)\n",
            "    (5): Dropout(p=0.25, inplace=False)\n",
            "    (6): Conv2d(32, 64, kernel_size=(3, 3), stride=(1, 1), padding=(1, 1))\n",
            "    (7): ReLU()\n",
            "    (8): Conv2d(64, 64, kernel_size=(3, 3), stride=(1, 1))\n",
            "    (9): ReLU()\n",
            "    (10): MaxPool2d(kernel_size=2, stride=2, padding=0, dilation=1, ceil_mode=False)\n",
            "    (11): Dropout(p=0.25, inplace=False)\n",
            "    (12): Flatten(start_dim=1, end_dim=-1)\n",
            "    (13): Linear(in_features=2304, out_features=512, bias=True)\n",
            "    (14): ReLU()\n",
            "    (15): Dropout(p=0.5, inplace=False)\n",
            "    (16): Linear(in_features=512, out_features=10, bias=True)\n",
            "  )\n",
            ")\n",
            "Accuracy: 79.34%\n",
            "\n"
          ]
        },
        {
          "output_type": "stream",
          "name": "stderr",
          "text": [
            "\n"
          ]
        }
      ],
      "source": [
        "original_model = CIFAR10Model()\n",
        "original_model = train_dnn(original_model, trainloader, epochs, device)\n",
        "accuracy = dnn_inference(original_model, testloader, device)\n",
        "print(\"Original Model\")\n",
        "print(original_model)\n",
        "print(f'Accuracy: {accuracy:.2f}%\\n')"
      ]
    },
    {
      "cell_type": "code",
      "execution_count": null,
      "metadata": {
        "id": "N7hl6ZmKo51Q",
        "colab": {
          "base_uri": "https://localhost:8080/"
        },
        "outputId": "a2f0e2e9-421f-4f0a-8c88-7ad717e44b35"
      },
      "outputs": [
        {
          "output_type": "stream",
          "name": "stderr",
          "text": [
            "Inference: 100%|██████████| 313/313 [00:03<00:00, 92.01it/s] "
          ]
        },
        {
          "output_type": "stream",
          "name": "stdout",
          "text": [
            "Poly Model\n",
            "CIFAR10Model(\n",
            "  (activation): SquareActivation()\n",
            "  (layers): Sequential(\n",
            "    (0): Conv2d(3, 32, kernel_size=(3, 3), stride=(1, 1), padding=(1, 1))\n",
            "    (1): SquareActivation()\n",
            "    (2): Conv2d(32, 32, kernel_size=(3, 3), stride=(1, 1))\n",
            "    (3): SquareActivation()\n",
            "    (4): AvgPool2d(kernel_size=2, stride=2, padding=0)\n",
            "    (5): Dropout(p=0.25, inplace=False)\n",
            "    (6): Conv2d(32, 64, kernel_size=(3, 3), stride=(1, 1), padding=(1, 1))\n",
            "    (7): SquareActivation()\n",
            "    (8): Conv2d(64, 64, kernel_size=(3, 3), stride=(1, 1))\n",
            "    (9): SquareActivation()\n",
            "    (10): AvgPool2d(kernel_size=2, stride=2, padding=0)\n",
            "    (11): Dropout(p=0.25, inplace=False)\n",
            "    (12): Flatten(start_dim=1, end_dim=-1)\n",
            "    (13): Linear(in_features=2304, out_features=512, bias=True)\n",
            "    (14): SquareActivation()\n",
            "    (15): Dropout(p=0.5, inplace=False)\n",
            "    (16): Linear(in_features=512, out_features=10, bias=True)\n",
            "  )\n",
            ")\n",
            "Accuracy: 9.99%\n",
            "\n"
          ]
        },
        {
          "output_type": "stream",
          "name": "stderr",
          "text": [
            "\n"
          ]
        }
      ],
      "source": [
        "poly_model = CIFAR10Model(use_poly=True)\n",
        "poly_model.load_state_dict(original_model.state_dict())\n",
        "accuracy = dnn_inference(poly_model, testloader, device)\n",
        "print(\"Poly Model\")\n",
        "print(poly_model)\n",
        "print(f'Accuracy: {accuracy:.2f}%\\n')"
      ]
    },
    {
      "cell_type": "code",
      "execution_count": null,
      "metadata": {
        "id": "GEYGyuWEo51R",
        "colab": {
          "base_uri": "https://localhost:8080/"
        },
        "outputId": "9d00449b-53e8-4748-94ff-876818859cda"
      },
      "outputs": [
        {
          "output_type": "stream",
          "name": "stderr",
          "text": [
            "Epoch 1: 100%|██████████| 1563/1563 [00:26<00:00, 59.06it/s, Loss=462]\n",
            "Epoch 2: 100%|██████████| 1563/1563 [00:26<00:00, 59.15it/s, Loss=1.37e+5]\n",
            "Epoch 3: 100%|██████████| 1563/1563 [00:26<00:00, 58.75it/s, Loss=16.9]\n",
            "Epoch 4: 100%|██████████| 1563/1563 [00:26<00:00, 59.07it/s, Loss=7.23]\n",
            "Epoch 5: 100%|██████████| 1563/1563 [00:27<00:00, 57.58it/s, Loss=3.85]\n",
            "Epoch 6: 100%|██████████| 1563/1563 [00:26<00:00, 58.37it/s, Loss=3.02]\n",
            "Epoch 7: 100%|██████████| 1563/1563 [00:26<00:00, 59.06it/s, Loss=2.73]\n",
            "Epoch 8: 100%|██████████| 1563/1563 [00:26<00:00, 59.23it/s, Loss=2.48]\n",
            "Epoch 9: 100%|██████████| 1563/1563 [00:26<00:00, 58.95it/s, Loss=2.38]\n",
            "Epoch 10: 100%|██████████| 1563/1563 [00:26<00:00, 58.93it/s, Loss=2.32]\n",
            "Epoch 11: 100%|██████████| 1563/1563 [00:26<00:00, 59.48it/s, Loss=2.29]\n",
            "Epoch 12: 100%|██████████| 1563/1563 [00:26<00:00, 59.15it/s, Loss=2.29]\n",
            "Epoch 13: 100%|██████████| 1563/1563 [00:26<00:00, 59.53it/s, Loss=2.29]\n",
            "Epoch 14: 100%|██████████| 1563/1563 [00:26<00:00, 59.68it/s, Loss=2.27]\n",
            "Epoch 15: 100%|██████████| 1563/1563 [00:26<00:00, 58.79it/s, Loss=2.22]\n",
            "Epoch 16: 100%|██████████| 1563/1563 [00:26<00:00, 58.93it/s, Loss=2.01]\n",
            "Epoch 17: 100%|██████████| 1563/1563 [00:25<00:00, 60.17it/s, Loss=1.96]\n",
            "Epoch 18: 100%|██████████| 1563/1563 [00:26<00:00, 58.99it/s, Loss=1.75]\n",
            "Epoch 19: 100%|██████████| 1563/1563 [00:26<00:00, 60.02it/s, Loss=1.67]\n",
            "Epoch 20: 100%|██████████| 1563/1563 [00:26<00:00, 59.62it/s, Loss=17.1]\n",
            "Epoch 21: 100%|██████████| 1563/1563 [00:26<00:00, 57.98it/s, Loss=2.26]\n",
            "Epoch 22: 100%|██████████| 1563/1563 [00:26<00:00, 58.03it/s, Loss=2.03]\n",
            "Epoch 23: 100%|██████████| 1563/1563 [00:26<00:00, 58.32it/s, Loss=1.85]\n",
            "Epoch 24: 100%|██████████| 1563/1563 [00:27<00:00, 57.77it/s, Loss=1.71]\n",
            "Epoch 25: 100%|██████████| 1563/1563 [00:26<00:00, 59.06it/s, Loss=1.72]\n",
            "Epoch 26: 100%|██████████| 1563/1563 [00:26<00:00, 59.64it/s, Loss=1.56]\n",
            "Epoch 27: 100%|██████████| 1563/1563 [00:26<00:00, 59.17it/s, Loss=1.48]\n",
            "Epoch 28: 100%|██████████| 1563/1563 [00:26<00:00, 58.99it/s, Loss=1.42]\n",
            "Epoch 29: 100%|██████████| 1563/1563 [00:26<00:00, 58.51it/s, Loss=52.4]\n",
            "Epoch 30: 100%|██████████| 1563/1563 [00:26<00:00, 58.56it/s, Loss=2.22]\n",
            "Inference: 100%|██████████| 313/313 [00:03<00:00, 84.66it/s] "
          ]
        },
        {
          "output_type": "stream",
          "name": "stdout",
          "text": [
            "Retrained Model\n",
            "CIFAR10Model(\n",
            "  (activation): SquareActivation()\n",
            "  (layers): Sequential(\n",
            "    (0): Conv2d(3, 32, kernel_size=(3, 3), stride=(1, 1), padding=(1, 1))\n",
            "    (1): SquareActivation()\n",
            "    (2): Conv2d(32, 32, kernel_size=(3, 3), stride=(1, 1))\n",
            "    (3): SquareActivation()\n",
            "    (4): AvgPool2d(kernel_size=2, stride=2, padding=0)\n",
            "    (5): Dropout(p=0.25, inplace=False)\n",
            "    (6): Conv2d(32, 64, kernel_size=(3, 3), stride=(1, 1), padding=(1, 1))\n",
            "    (7): SquareActivation()\n",
            "    (8): Conv2d(64, 64, kernel_size=(3, 3), stride=(1, 1))\n",
            "    (9): SquareActivation()\n",
            "    (10): AvgPool2d(kernel_size=2, stride=2, padding=0)\n",
            "    (11): Dropout(p=0.25, inplace=False)\n",
            "    (12): Flatten(start_dim=1, end_dim=-1)\n",
            "    (13): Linear(in_features=2304, out_features=512, bias=True)\n",
            "    (14): SquareActivation()\n",
            "    (15): Dropout(p=0.5, inplace=False)\n",
            "    (16): Linear(in_features=512, out_features=10, bias=True)\n",
            "  )\n",
            ")\n",
            "Accuracy: 31.14%\n",
            "\n"
          ]
        },
        {
          "output_type": "stream",
          "name": "stderr",
          "text": [
            "\n"
          ]
        }
      ],
      "source": [
        "retrained_model = CIFAR10Model(use_poly=True)\n",
        "retrained_model = train_dnn(retrained_model, trainloader, epochs, device)\n",
        "accuracy = dnn_inference(retrained_model, testloader, device)\n",
        "print(\"Retrained Model\")\n",
        "print(retrained_model)\n",
        "print(f'Accuracy: {accuracy:.2f}%\\n')"
      ]
    },
    {
      "cell_type": "code",
      "execution_count": null,
      "metadata": {
        "id": "88JiGFBVo51R",
        "colab": {
          "base_uri": "https://localhost:8080/"
        },
        "outputId": "e574b435-414b-46d9-9819-39976154b9f1"
      },
      "outputs": [
        {
          "output_type": "stream",
          "name": "stdout",
          "text": [
            "Parameter containing:\n",
            "tensor([0.0081], requires_grad=True)\n",
            "Parameter containing:\n",
            "tensor([0.0070], requires_grad=True)\n"
          ]
        },
        {
          "output_type": "stream",
          "name": "stderr",
          "text": [
            "Epoch 1: 100%|██████████| 1563/1563 [00:27<00:00, 56.48it/s, Loss=2.3]\n",
            "Epoch 2: 100%|██████████| 1563/1563 [00:27<00:00, 56.24it/s, Loss=2.3]\n",
            "Epoch 3: 100%|██████████| 1563/1563 [00:27<00:00, 56.24it/s, Loss=2.3]\n",
            "Epoch 4: 100%|██████████| 1563/1563 [00:28<00:00, 55.67it/s, Loss=2.3]\n",
            "Epoch 5: 100%|██████████| 1563/1563 [00:28<00:00, 55.65it/s, Loss=2.3]\n",
            "Epoch 6: 100%|██████████| 1563/1563 [00:28<00:00, 55.79it/s, Loss=2.29]\n",
            "Epoch 7: 100%|██████████| 1563/1563 [00:28<00:00, 55.16it/s, Loss=1.84]\n",
            "Epoch 8: 100%|██████████| 1563/1563 [00:28<00:00, 54.98it/s, Loss=1.61]\n",
            "Epoch 9: 100%|██████████| 1563/1563 [00:28<00:00, 55.45it/s, Loss=1.46]\n",
            "Epoch 10: 100%|██████████| 1563/1563 [00:28<00:00, 55.80it/s, Loss=3.75]\n",
            "Epoch 11: 100%|██████████| 1563/1563 [00:27<00:00, 56.51it/s, Loss=1.9]\n",
            "Epoch 12: 100%|██████████| 1563/1563 [00:28<00:00, 55.70it/s, Loss=1.84]\n",
            "Epoch 13: 100%|██████████| 1563/1563 [00:28<00:00, 55.80it/s, Loss=1.8]\n",
            "Epoch 14: 100%|██████████| 1563/1563 [00:27<00:00, 56.15it/s, Loss=1.75]\n",
            "Epoch 15: 100%|██████████| 1563/1563 [00:27<00:00, 56.22it/s, Loss=1.51]\n",
            "Epoch 16: 100%|██████████| 1563/1563 [00:27<00:00, 56.54it/s, Loss=1.33]\n",
            "Epoch 17: 100%|██████████| 1563/1563 [00:28<00:00, 55.01it/s, Loss=1.27]\n",
            "Epoch 18: 100%|██████████| 1563/1563 [00:28<00:00, 55.52it/s, Loss=1.21]\n",
            "Epoch 19: 100%|██████████| 1563/1563 [00:27<00:00, 56.93it/s, Loss=1.19]\n",
            "Epoch 20: 100%|██████████| 1563/1563 [00:27<00:00, 55.86it/s, Loss=1.11]\n",
            "Epoch 21: 100%|██████████| 1563/1563 [00:27<00:00, 56.11it/s, Loss=1.24]\n",
            "Epoch 22: 100%|██████████| 1563/1563 [00:28<00:00, 55.62it/s, Loss=1.03]\n",
            "Epoch 23: 100%|██████████| 1563/1563 [00:28<00:00, 54.43it/s, Loss=1.02]\n",
            "Epoch 24: 100%|██████████| 1563/1563 [00:28<00:00, 54.25it/s, Loss=0.944]\n",
            "Epoch 25: 100%|██████████| 1563/1563 [00:28<00:00, 55.49it/s, Loss=0.92]\n",
            "Epoch 26: 100%|██████████| 1563/1563 [00:28<00:00, 55.40it/s, Loss=0.863]\n",
            "Epoch 27: 100%|██████████| 1563/1563 [00:28<00:00, 55.65it/s, Loss=1.07]\n",
            "Epoch 28: 100%|██████████| 1563/1563 [00:28<00:00, 55.42it/s, Loss=0.79]\n",
            "Epoch 29: 100%|██████████| 1563/1563 [00:27<00:00, 56.51it/s, Loss=0.747]\n",
            "Epoch 30: 100%|██████████| 1563/1563 [00:27<00:00, 56.63it/s, Loss=0.727]\n",
            "Epoch 31: 100%|██████████| 1563/1563 [00:27<00:00, 56.03it/s, Loss=0.686]\n",
            "Epoch 32: 100%|██████████| 1563/1563 [00:27<00:00, 56.46it/s, Loss=0.657]\n",
            "Epoch 33: 100%|██████████| 1563/1563 [00:27<00:00, 56.71it/s, Loss=0.62]\n",
            "Epoch 34: 100%|██████████| 1563/1563 [00:27<00:00, 56.38it/s, Loss=0.591]\n",
            "Epoch 35: 100%|██████████| 1563/1563 [00:27<00:00, 56.18it/s, Loss=0.561]\n",
            "Epoch 36: 100%|██████████| 1563/1563 [00:27<00:00, 56.14it/s, Loss=0.537]\n",
            "Epoch 37: 100%|██████████| 1563/1563 [00:27<00:00, 56.09it/s, Loss=0.576]\n",
            "Epoch 38: 100%|██████████| 1563/1563 [00:28<00:00, 55.74it/s, Loss=0.484]\n",
            "Epoch 39: 100%|██████████| 1563/1563 [00:28<00:00, 55.09it/s, Loss=0.469]\n",
            "Epoch 40: 100%|██████████| 1563/1563 [00:28<00:00, 55.19it/s, Loss=0.46]\n",
            "Epoch 41: 100%|██████████| 1563/1563 [00:27<00:00, 55.85it/s, Loss=0.455]\n",
            "Epoch 42: 100%|██████████| 1563/1563 [00:27<00:00, 56.21it/s, Loss=0.412]\n",
            "Epoch 43: 100%|██████████| 1563/1563 [00:27<00:00, 56.43it/s, Loss=0.403]\n",
            "Epoch 44: 100%|██████████| 1563/1563 [00:27<00:00, 56.30it/s, Loss=0.387]\n",
            "Epoch 45: 100%|██████████| 1563/1563 [00:28<00:00, 55.52it/s, Loss=0.376]\n",
            "Epoch 46: 100%|██████████| 1563/1563 [00:28<00:00, 54.91it/s, Loss=0.355]\n",
            "Epoch 47: 100%|██████████| 1563/1563 [00:28<00:00, 55.06it/s, Loss=0.411]\n",
            "Epoch 48: 100%|██████████| 1563/1563 [00:28<00:00, 54.92it/s, Loss=0.326]\n",
            "Epoch 49: 100%|██████████| 1563/1563 [00:29<00:00, 53.14it/s, Loss=0.323]\n",
            "Epoch 50: 100%|██████████| 1563/1563 [00:28<00:00, 54.21it/s, Loss=0.311]\n",
            "Inference: 100%|██████████| 313/313 [00:03<00:00, 86.38it/s] \n"
          ]
        },
        {
          "output_type": "stream",
          "name": "stdout",
          "text": [
            "Parameter containing:\n",
            "tensor([0.0195], device='cuda:0', requires_grad=True)\n",
            "Parameter containing:\n",
            "tensor([-0.0850], device='cuda:0', requires_grad=True)\n",
            "Quadratic Model\n",
            "CIFAR10Model(\n",
            "  (activation): QuadraticActivation()\n",
            "  (layers): Sequential(\n",
            "    (0): Conv2d(3, 32, kernel_size=(3, 3), stride=(1, 1), padding=(1, 1))\n",
            "    (1): QuadraticActivation()\n",
            "    (2): Conv2d(32, 32, kernel_size=(3, 3), stride=(1, 1))\n",
            "    (3): QuadraticActivation()\n",
            "    (4): AvgPool2d(kernel_size=2, stride=2, padding=0)\n",
            "    (5): Dropout(p=0.25, inplace=False)\n",
            "    (6): Conv2d(32, 64, kernel_size=(3, 3), stride=(1, 1), padding=(1, 1))\n",
            "    (7): QuadraticActivation()\n",
            "    (8): Conv2d(64, 64, kernel_size=(3, 3), stride=(1, 1))\n",
            "    (9): QuadraticActivation()\n",
            "    (10): AvgPool2d(kernel_size=2, stride=2, padding=0)\n",
            "    (11): Dropout(p=0.25, inplace=False)\n",
            "    (12): Flatten(start_dim=1, end_dim=-1)\n",
            "    (13): Linear(in_features=2304, out_features=512, bias=True)\n",
            "    (14): QuadraticActivation()\n",
            "    (15): Dropout(p=0.5, inplace=False)\n",
            "    (16): Linear(in_features=512, out_features=10, bias=True)\n",
            "  )\n",
            ")\n",
            "Accuracy: 72.09%\n",
            "\n"
          ]
        }
      ],
      "source": [
        "epochs = 50\n",
        "quadratic_model = CIFAR10Model(use_quadratic=True)\n",
        "print(quadratic_model.activation.a)\n",
        "print(quadratic_model.activation.b)\n",
        "quadratic_model = train_dnn(quadratic_model, trainloader, epochs, device)\n",
        "accuracy = dnn_inference(quadratic_model, testloader, device)\n",
        "print(quadratic_model.activation.a)\n",
        "print(quadratic_model.activation.b)\n",
        "print(\"Quadratic Model\")\n",
        "print(quadratic_model)\n",
        "print(f'Accuracy: {accuracy:.2f}%\\n')"
      ]
    },
    {
      "cell_type": "code",
      "source": [
        "# alpha = 13, B = 50\n",
        "# Source : Precise Approximation of Convolutional Neural Networks for Homomorphically Encrypted Data\n",
        "epochs = 30\n",
        "class SnuActivation(nn.Module):\n",
        "  def forward(self, x):\n",
        "    x = x / 1000\n",
        "    y = (24.5589415425004*x + \n",
        "         (-669.660449716894)*x**3 + \n",
        "         6672.99848301339*x**5 + \n",
        "         (-30603.6656163898)*x**7 +\n",
        "         73188.4032987787*x**9 +\n",
        "         (-94443.3217050084)*x**11 +\n",
        "         62325.4094212546*x**13 +\n",
        "         (-16494.6744117805)*x**15 \n",
        "         )\n",
        "    y = (9.35625636035439*y + \n",
        "         (-59.16389639336264)*y**3 + \n",
        "         148.860930626448*y**5 + \n",
        "         (-175.812874878582)*y**7 +\n",
        "         109.111299685955*y**9 +\n",
        "         (-36.6768839978755)*y**11 +\n",
        "         6.31846290311294*y**13 +\n",
        "         (-0.437113415082177)*y**15 \n",
        "         )\n",
        "    y = (5.07813569758861*y + \n",
        "         (-30.7329918137186)*y**3+\n",
        "         144.109746812809*y**5+\n",
        "         (-459.661688826142)*y**7+\n",
        "         1021.52064470459*y**9+\n",
        "         (-1620.56256708877)*y**11+\n",
        "         1864.67646416570*y**13+\n",
        "         (-1567.49300877143)*y**15+\n",
        "         960.970309093422*y**17+\n",
        "         (-424.326161871646)*y**19+\n",
        "         131.278509256003*y**21+\n",
        "         (-26.9812576626115)*y**23+\n",
        "         3.30651387315565*y**25+\n",
        "         (-0.182742944627533)*y**27\n",
        "         )\n",
        "    x = (x + x * y)/2 * 1000\n",
        "    return x\n",
        "\n",
        "snu_model = CIFAR10Model(poly_activation=SnuActivation())\n",
        "snu_model = train_dnn(snu_model, trainloader, epochs, device)\n",
        "accuracy = dnn_inference(snu_model, testloader, device)\n",
        "print(\"Snu Model\")\n",
        "print(snu_model)\n",
        "print(f'Accuracy: {accuracy:.2f}%\\n')"
      ],
      "metadata": {
        "colab": {
          "base_uri": "https://localhost:8080/"
        },
        "id": "3urFWcpQEJrM",
        "outputId": "47289b0a-cf04-4bdd-ca9a-fa1fcce236a2"
      },
      "execution_count": null,
      "outputs": [
        {
          "output_type": "stream",
          "name": "stderr",
          "text": [
            "Epoch 1: 100%|██████████| 1563/1563 [01:04<00:00, 24.25it/s, Loss=1.44]\n",
            "Epoch 2: 100%|██████████| 1563/1563 [01:02<00:00, 25.12it/s, Loss=0.98]\n",
            "Epoch 3: 100%|██████████| 1563/1563 [01:02<00:00, 25.11it/s, Loss=0.797]\n",
            "Epoch 4: 100%|██████████| 1563/1563 [01:03<00:00, 24.62it/s, Loss=0.694]\n",
            "Epoch 5: 100%|██████████| 1563/1563 [01:02<00:00, 24.85it/s, Loss=0.615]\n",
            "Epoch 6: 100%|██████████| 1563/1563 [01:02<00:00, 24.96it/s, Loss=0.561]\n",
            "Epoch 7: 100%|██████████| 1563/1563 [01:02<00:00, 24.86it/s, Loss=0.513]\n",
            "Epoch 8: 100%|██████████| 1563/1563 [01:02<00:00, 24.81it/s, Loss=0.472]\n",
            "Epoch 9: 100%|██████████| 1563/1563 [01:02<00:00, 24.91it/s, Loss=0.441]\n",
            "Epoch 10: 100%|██████████| 1563/1563 [01:03<00:00, 24.64it/s, Loss=0.422]\n",
            "Epoch 11: 100%|██████████| 1563/1563 [01:03<00:00, 24.63it/s, Loss=0.396]\n",
            "Epoch 12: 100%|██████████| 1563/1563 [01:03<00:00, 24.62it/s, Loss=0.376]\n",
            "Epoch 13: 100%|██████████| 1563/1563 [01:03<00:00, 24.47it/s, Loss=0.359]\n",
            "Epoch 14: 100%|██████████| 1563/1563 [01:03<00:00, 24.61it/s, Loss=0.352]\n",
            "Epoch 15: 100%|██████████| 1563/1563 [01:04<00:00, 24.28it/s, Loss=0.341]\n",
            "Epoch 16: 100%|██████████| 1563/1563 [01:03<00:00, 24.74it/s, Loss=0.329]\n",
            "Epoch 17: 100%|██████████| 1563/1563 [01:03<00:00, 24.72it/s, Loss=0.321]\n",
            "Epoch 18: 100%|██████████| 1563/1563 [01:03<00:00, 24.69it/s, Loss=0.307]\n",
            "Epoch 19: 100%|██████████| 1563/1563 [01:02<00:00, 24.81it/s, Loss=0.312]\n",
            "Epoch 20: 100%|██████████| 1563/1563 [01:02<00:00, 24.85it/s, Loss=0.302]\n",
            "Epoch 21: 100%|██████████| 1563/1563 [01:03<00:00, 24.62it/s, Loss=0.296]\n",
            "Epoch 22: 100%|██████████| 1563/1563 [01:03<00:00, 24.77it/s, Loss=0.289]\n",
            "Epoch 23: 100%|██████████| 1563/1563 [01:02<00:00, 24.81it/s, Loss=0.284]\n",
            "Epoch 24: 100%|██████████| 1563/1563 [01:03<00:00, 24.61it/s, Loss=0.286]\n",
            "Epoch 25: 100%|██████████| 1563/1563 [01:03<00:00, 24.76it/s, Loss=0.278]\n",
            "Epoch 26: 100%|██████████| 1563/1563 [01:03<00:00, 24.65it/s, Loss=0.279]\n",
            "Epoch 27: 100%|██████████| 1563/1563 [01:03<00:00, 24.62it/s, Loss=0.273]\n",
            "Epoch 28: 100%|██████████| 1563/1563 [01:03<00:00, 24.77it/s, Loss=0.268]\n",
            "Epoch 29: 100%|██████████| 1563/1563 [01:03<00:00, 24.78it/s, Loss=0.267]\n",
            "Epoch 30: 100%|██████████| 1563/1563 [01:04<00:00, 24.34it/s, Loss=0.259]\n",
            "Inference: 100%|██████████| 313/313 [00:04<00:00, 66.18it/s]"
          ]
        },
        {
          "output_type": "stream",
          "name": "stdout",
          "text": [
            "Snu Model\n",
            "CIFAR10Model(\n",
            "  (activation): SnuActivation()\n",
            "  (layers): Sequential(\n",
            "    (0): Conv2d(3, 32, kernel_size=(3, 3), stride=(1, 1), padding=(1, 1))\n",
            "    (1): SnuActivation()\n",
            "    (2): Conv2d(32, 32, kernel_size=(3, 3), stride=(1, 1))\n",
            "    (3): SnuActivation()\n",
            "    (4): AvgPool2d(kernel_size=2, stride=2, padding=0)\n",
            "    (5): Dropout(p=0.25, inplace=False)\n",
            "    (6): Conv2d(32, 64, kernel_size=(3, 3), stride=(1, 1), padding=(1, 1))\n",
            "    (7): SnuActivation()\n",
            "    (8): Conv2d(64, 64, kernel_size=(3, 3), stride=(1, 1))\n",
            "    (9): SnuActivation()\n",
            "    (10): AvgPool2d(kernel_size=2, stride=2, padding=0)\n",
            "    (11): Dropout(p=0.25, inplace=False)\n",
            "    (12): Flatten(start_dim=1, end_dim=-1)\n",
            "    (13): Linear(in_features=2304, out_features=512, bias=True)\n",
            "    (14): SnuActivation()\n",
            "    (15): Dropout(p=0.5, inplace=False)\n",
            "    (16): Linear(in_features=512, out_features=10, bias=True)\n",
            "  )\n",
            ")\n",
            "Accuracy: 80.99%\n",
            "\n"
          ]
        },
        {
          "output_type": "stream",
          "name": "stderr",
          "text": [
            "\n"
          ]
        }
      ]
    }
  ],
  "metadata": {
    "accelerator": "GPU",
    "colab": {
      "provenance": [],
      "include_colab_link": true
    },
    "gpuClass": "standard",
    "kernelspec": {
      "display_name": "pt",
      "language": "python",
      "name": "python3"
    },
    "language_info": {
      "codemirror_mode": {
        "name": "ipython",
        "version": 3
      },
      "file_extension": ".py",
      "mimetype": "text/x-python",
      "name": "python",
      "nbconvert_exporter": "python",
      "pygments_lexer": "ipython3",
      "version": "3.10.9"
    }
  },
  "nbformat": 4,
  "nbformat_minor": 0
}